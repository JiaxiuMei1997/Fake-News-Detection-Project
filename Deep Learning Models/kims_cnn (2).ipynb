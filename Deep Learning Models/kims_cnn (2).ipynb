{
  "cells": [
    {
      "cell_type": "code",
      "execution_count": null,
      "id": "willing-vault",
      "metadata": {
        "execution": {
          "iopub.execute_input": "2021-05-03T00:21:22.380886Z",
          "iopub.status.busy": "2021-05-03T00:21:22.379345Z",
          "iopub.status.idle": "2021-05-03T00:21:29.088210Z",
          "shell.execute_reply": "2021-05-03T00:21:29.089477Z"
        },
        "papermill": {
          "duration": 6.7305,
          "end_time": "2021-05-03T00:21:29.089890",
          "exception": false,
          "start_time": "2021-05-03T00:21:22.359390",
          "status": "completed"
        },
        "tags": [],
        "colab": {
          "base_uri": "https://localhost:8080/"
        },
        "id": "willing-vault",
        "outputId": "cd7ca7f3-d168-48b4-ecdd-bc876b283d1e"
      },
      "outputs": [
        {
          "output_type": "stream",
          "name": "stderr",
          "text": [
            "[nltk_data] Downloading package stopwords to /root/nltk_data...\n",
            "[nltk_data]   Package stopwords is already up-to-date!\n"
          ]
        }
      ],
      "source": [
        "# importing required libraries\n",
        "import numpy as np\n",
        "import pandas as pd\n",
        "\n",
        "from sklearn.metrics import confusion_matrix, accuracy_score\n",
        "from sklearn.model_selection import train_test_split\n",
        "\n",
        "from keras.preprocessing.text import Tokenizer\n",
        "from keras_preprocessing.sequence import pad_sequences\n",
        "from keras import regularizers\n",
        "from keras.models import Model\n",
        "from keras.layers import *\n",
        "from keras.utils.np_utils import to_categorical\n",
        "import re\n",
        "from keras.optimizers import Adam\n",
        "import nltk\n",
        "nltk.download('stopwords')\n",
        "from nltk.corpus import stopwords\n",
        "\n",
        "from gensim.models import KeyedVectors\n",
        "\n",
        "import matplotlib.pyplot as plt\n",
        "%matplotlib inline"
      ]
    },
    {
      "cell_type": "code",
      "source": [
        "from google.colab import drive\n",
        "drive.mount('/content/drive')"
      ],
      "metadata": {
        "colab": {
          "base_uri": "https://localhost:8080/"
        },
        "id": "a5GTkNrycEzE",
        "outputId": "9e72778c-6761-4b82-94be-1d0ccf70ad75"
      },
      "id": "a5GTkNrycEzE",
      "execution_count": null,
      "outputs": [
        {
          "output_type": "stream",
          "name": "stdout",
          "text": [
            "Mounted at /content/drive\n"
          ]
        }
      ]
    },
    {
      "cell_type": "code",
      "execution_count": null,
      "id": "armed-kansas",
      "metadata": {
        "execution": {
          "iopub.execute_input": "2021-05-03T00:21:29.152033Z",
          "iopub.status.busy": "2021-05-03T00:21:29.151216Z",
          "iopub.status.idle": "2021-05-03T00:21:31.032818Z",
          "shell.execute_reply": "2021-05-03T00:21:31.032393Z"
        },
        "papermill": {
          "duration": 1.914885,
          "end_time": "2021-05-03T00:21:31.032939",
          "exception": false,
          "start_time": "2021-05-03T00:21:29.118054",
          "status": "completed"
        },
        "tags": [],
        "colab": {
          "base_uri": "https://localhost:8080/",
          "height": 704
        },
        "id": "armed-kansas",
        "outputId": "91cbc920-2da5-4b78-89d7-313b865e5150"
      },
      "outputs": [
        {
          "output_type": "execute_result",
          "data": {
            "text/plain": [
              "           0            1                                                  2   \\\n",
              "0   2635.json        false  Says the Annies List political group supports ...   \n",
              "1  10540.json    half-true  When did the decline of coal start? It started...   \n",
              "2    324.json  mostly-true  Hillary Clinton agrees with John McCain \"by vo...   \n",
              "3   1123.json        false  Health care reform legislation is likely to ma...   \n",
              "4   9028.json    half-true  The economic turnaround started at the end of ...   \n",
              "\n",
              "                                   3               4                     5   \\\n",
              "0                            abortion    dwayne-bohac  State representative   \n",
              "1  energy,history,job-accomplishments  scott-surovell        State delegate   \n",
              "2                      foreign-policy    barack-obama             President   \n",
              "3                         health-care    blog-posting                   NaN   \n",
              "4                        economy,jobs   charlie-crist                   NaN   \n",
              "\n",
              "         6           7     8     9      10     11    12                   13  \n",
              "0     Texas  republican   0.0   1.0    0.0    0.0   0.0             a mailer  \n",
              "1  Virginia    democrat   0.0   0.0    1.0    1.0   0.0      a floor speech.  \n",
              "2  Illinois    democrat  70.0  71.0  160.0  163.0   9.0               Denver  \n",
              "3       NaN        none   7.0  19.0    3.0    5.0  44.0       a news release  \n",
              "4   Florida    democrat  15.0   9.0   20.0   19.0   2.0  an interview on CNN  "
            ],
            "text/html": [
              "\n",
              "  <div id=\"df-450058ae-9bba-4059-b15f-6b5a5c196e22\">\n",
              "    <div class=\"colab-df-container\">\n",
              "      <div>\n",
              "<style scoped>\n",
              "    .dataframe tbody tr th:only-of-type {\n",
              "        vertical-align: middle;\n",
              "    }\n",
              "\n",
              "    .dataframe tbody tr th {\n",
              "        vertical-align: top;\n",
              "    }\n",
              "\n",
              "    .dataframe thead th {\n",
              "        text-align: right;\n",
              "    }\n",
              "</style>\n",
              "<table border=\"1\" class=\"dataframe\">\n",
              "  <thead>\n",
              "    <tr style=\"text-align: right;\">\n",
              "      <th></th>\n",
              "      <th>0</th>\n",
              "      <th>1</th>\n",
              "      <th>2</th>\n",
              "      <th>3</th>\n",
              "      <th>4</th>\n",
              "      <th>5</th>\n",
              "      <th>6</th>\n",
              "      <th>7</th>\n",
              "      <th>8</th>\n",
              "      <th>9</th>\n",
              "      <th>10</th>\n",
              "      <th>11</th>\n",
              "      <th>12</th>\n",
              "      <th>13</th>\n",
              "    </tr>\n",
              "  </thead>\n",
              "  <tbody>\n",
              "    <tr>\n",
              "      <th>0</th>\n",
              "      <td>2635.json</td>\n",
              "      <td>false</td>\n",
              "      <td>Says the Annies List political group supports ...</td>\n",
              "      <td>abortion</td>\n",
              "      <td>dwayne-bohac</td>\n",
              "      <td>State representative</td>\n",
              "      <td>Texas</td>\n",
              "      <td>republican</td>\n",
              "      <td>0.0</td>\n",
              "      <td>1.0</td>\n",
              "      <td>0.0</td>\n",
              "      <td>0.0</td>\n",
              "      <td>0.0</td>\n",
              "      <td>a mailer</td>\n",
              "    </tr>\n",
              "    <tr>\n",
              "      <th>1</th>\n",
              "      <td>10540.json</td>\n",
              "      <td>half-true</td>\n",
              "      <td>When did the decline of coal start? It started...</td>\n",
              "      <td>energy,history,job-accomplishments</td>\n",
              "      <td>scott-surovell</td>\n",
              "      <td>State delegate</td>\n",
              "      <td>Virginia</td>\n",
              "      <td>democrat</td>\n",
              "      <td>0.0</td>\n",
              "      <td>0.0</td>\n",
              "      <td>1.0</td>\n",
              "      <td>1.0</td>\n",
              "      <td>0.0</td>\n",
              "      <td>a floor speech.</td>\n",
              "    </tr>\n",
              "    <tr>\n",
              "      <th>2</th>\n",
              "      <td>324.json</td>\n",
              "      <td>mostly-true</td>\n",
              "      <td>Hillary Clinton agrees with John McCain \"by vo...</td>\n",
              "      <td>foreign-policy</td>\n",
              "      <td>barack-obama</td>\n",
              "      <td>President</td>\n",
              "      <td>Illinois</td>\n",
              "      <td>democrat</td>\n",
              "      <td>70.0</td>\n",
              "      <td>71.0</td>\n",
              "      <td>160.0</td>\n",
              "      <td>163.0</td>\n",
              "      <td>9.0</td>\n",
              "      <td>Denver</td>\n",
              "    </tr>\n",
              "    <tr>\n",
              "      <th>3</th>\n",
              "      <td>1123.json</td>\n",
              "      <td>false</td>\n",
              "      <td>Health care reform legislation is likely to ma...</td>\n",
              "      <td>health-care</td>\n",
              "      <td>blog-posting</td>\n",
              "      <td>NaN</td>\n",
              "      <td>NaN</td>\n",
              "      <td>none</td>\n",
              "      <td>7.0</td>\n",
              "      <td>19.0</td>\n",
              "      <td>3.0</td>\n",
              "      <td>5.0</td>\n",
              "      <td>44.0</td>\n",
              "      <td>a news release</td>\n",
              "    </tr>\n",
              "    <tr>\n",
              "      <th>4</th>\n",
              "      <td>9028.json</td>\n",
              "      <td>half-true</td>\n",
              "      <td>The economic turnaround started at the end of ...</td>\n",
              "      <td>economy,jobs</td>\n",
              "      <td>charlie-crist</td>\n",
              "      <td>NaN</td>\n",
              "      <td>Florida</td>\n",
              "      <td>democrat</td>\n",
              "      <td>15.0</td>\n",
              "      <td>9.0</td>\n",
              "      <td>20.0</td>\n",
              "      <td>19.0</td>\n",
              "      <td>2.0</td>\n",
              "      <td>an interview on CNN</td>\n",
              "    </tr>\n",
              "  </tbody>\n",
              "</table>\n",
              "</div>\n",
              "      <button class=\"colab-df-convert\" onclick=\"convertToInteractive('df-450058ae-9bba-4059-b15f-6b5a5c196e22')\"\n",
              "              title=\"Convert this dataframe to an interactive table.\"\n",
              "              style=\"display:none;\">\n",
              "        \n",
              "  <svg xmlns=\"http://www.w3.org/2000/svg\" height=\"24px\"viewBox=\"0 0 24 24\"\n",
              "       width=\"24px\">\n",
              "    <path d=\"M0 0h24v24H0V0z\" fill=\"none\"/>\n",
              "    <path d=\"M18.56 5.44l.94 2.06.94-2.06 2.06-.94-2.06-.94-.94-2.06-.94 2.06-2.06.94zm-11 1L8.5 8.5l.94-2.06 2.06-.94-2.06-.94L8.5 2.5l-.94 2.06-2.06.94zm10 10l.94 2.06.94-2.06 2.06-.94-2.06-.94-.94-2.06-.94 2.06-2.06.94z\"/><path d=\"M17.41 7.96l-1.37-1.37c-.4-.4-.92-.59-1.43-.59-.52 0-1.04.2-1.43.59L10.3 9.45l-7.72 7.72c-.78.78-.78 2.05 0 2.83L4 21.41c.39.39.9.59 1.41.59.51 0 1.02-.2 1.41-.59l7.78-7.78 2.81-2.81c.8-.78.8-2.07 0-2.86zM5.41 20L4 18.59l7.72-7.72 1.47 1.35L5.41 20z\"/>\n",
              "  </svg>\n",
              "      </button>\n",
              "      \n",
              "  <style>\n",
              "    .colab-df-container {\n",
              "      display:flex;\n",
              "      flex-wrap:wrap;\n",
              "      gap: 12px;\n",
              "    }\n",
              "\n",
              "    .colab-df-convert {\n",
              "      background-color: #E8F0FE;\n",
              "      border: none;\n",
              "      border-radius: 50%;\n",
              "      cursor: pointer;\n",
              "      display: none;\n",
              "      fill: #1967D2;\n",
              "      height: 32px;\n",
              "      padding: 0 0 0 0;\n",
              "      width: 32px;\n",
              "    }\n",
              "\n",
              "    .colab-df-convert:hover {\n",
              "      background-color: #E2EBFA;\n",
              "      box-shadow: 0px 1px 2px rgba(60, 64, 67, 0.3), 0px 1px 3px 1px rgba(60, 64, 67, 0.15);\n",
              "      fill: #174EA6;\n",
              "    }\n",
              "\n",
              "    [theme=dark] .colab-df-convert {\n",
              "      background-color: #3B4455;\n",
              "      fill: #D2E3FC;\n",
              "    }\n",
              "\n",
              "    [theme=dark] .colab-df-convert:hover {\n",
              "      background-color: #434B5C;\n",
              "      box-shadow: 0px 1px 3px 1px rgba(0, 0, 0, 0.15);\n",
              "      filter: drop-shadow(0px 1px 2px rgba(0, 0, 0, 0.3));\n",
              "      fill: #FFFFFF;\n",
              "    }\n",
              "  </style>\n",
              "\n",
              "      <script>\n",
              "        const buttonEl =\n",
              "          document.querySelector('#df-450058ae-9bba-4059-b15f-6b5a5c196e22 button.colab-df-convert');\n",
              "        buttonEl.style.display =\n",
              "          google.colab.kernel.accessAllowed ? 'block' : 'none';\n",
              "\n",
              "        async function convertToInteractive(key) {\n",
              "          const element = document.querySelector('#df-450058ae-9bba-4059-b15f-6b5a5c196e22');\n",
              "          const dataTable =\n",
              "            await google.colab.kernel.invokeFunction('convertToInteractive',\n",
              "                                                     [key], {});\n",
              "          if (!dataTable) return;\n",
              "\n",
              "          const docLinkHtml = 'Like what you see? Visit the ' +\n",
              "            '<a target=\"_blank\" href=https://colab.research.google.com/notebooks/data_table.ipynb>data table notebook</a>'\n",
              "            + ' to learn more about interactive tables.';\n",
              "          element.innerHTML = '';\n",
              "          dataTable['output_type'] = 'display_data';\n",
              "          await google.colab.output.renderOutput(dataTable, element);\n",
              "          const docLink = document.createElement('div');\n",
              "          docLink.innerHTML = docLinkHtml;\n",
              "          element.appendChild(docLink);\n",
              "        }\n",
              "      </script>\n",
              "    </div>\n",
              "  </div>\n",
              "  "
            ]
          },
          "metadata": {},
          "execution_count": 6
        }
      ],
      "source": [
        "# loading the dataset\n",
        "data_train = pd.read_csv(\"/content/drive/MyDrive/fake-news/train.tsv\", sep=\"\\t\", header=None)\n",
        "data_valid = pd.read_csv(\"/content/drive/MyDrive/fake-news/valid.tsv\", sep=\"\\t\", header=None)\n",
        "data_test = pd.read_csv(\"/content/drive/MyDrive/fake-news/test.tsv\", sep=\"\\t\", header=None)\n",
        "data_train.head()"
      ]
    },
    {
      "cell_type": "code",
      "source": [
        "#Below function performs all the required data cleaning and preprocessing steps\n",
        "\n",
        "def data_preprocessing(dataset):\n",
        "  #Creating new column called 'label' with 1 for true and mostly-true values, else 0 i.e. 1=real, 0=fake\n",
        "  dataset['label']=[1 if x==\"true\"or x==\"mostly-true\" else 0 for x in dataset[1]] \n",
        "  #Dropping unwanted columns\n",
        "  dataset = dataset.drop(labels=[0,1,8,9,10,11,12] ,axis=1)\n",
        "  \n",
        "  dataset[\"sentence\"] = dataset[2] #Combining metadata and the text columns into single columns\n",
        "\n",
        "  dataset = dataset.drop([2,3,4,5,6,7,13], axis=1) #dropping metadata columns, as we have merged them into a single column\n",
        "  dataset.dropna() #Dropping if there are still any null values\n",
        "\n",
        "  return dataset"
      ],
      "metadata": {
        "id": "1XuSQYWwzDdv"
      },
      "id": "1XuSQYWwzDdv",
      "execution_count": null,
      "outputs": []
    },
    {
      "cell_type": "code",
      "source": [
        "#Applying pre-processing to the raw data - train, valid and test sets\n",
        "data_train = data_preprocessing(data_train)\n",
        "data_valid = data_preprocessing(data_valid)\n",
        "data_test = data_preprocessing(data_test)"
      ],
      "metadata": {
        "id": "Dn_ev57JzJpq"
      },
      "id": "Dn_ev57JzJpq",
      "execution_count": null,
      "outputs": []
    },
    {
      "cell_type": "code",
      "source": [
        "#Sample data after preprocessing\n",
        "data_train.head(5)"
      ],
      "metadata": {
        "colab": {
          "base_uri": "https://localhost:8080/",
          "height": 206
        },
        "id": "O_10C6p-zMXt",
        "outputId": "9b86c624-f90e-49dc-8f5a-afd9433f8280"
      },
      "id": "O_10C6p-zMXt",
      "execution_count": null,
      "outputs": [
        {
          "output_type": "execute_result",
          "data": {
            "text/plain": [
              "   label                                           sentence\n",
              "0      0  Says the Annies List political group supports ...\n",
              "1      0  When did the decline of coal start? It started...\n",
              "2      1  Hillary Clinton agrees with John McCain \"by vo...\n",
              "3      0  Health care reform legislation is likely to ma...\n",
              "4      0  The economic turnaround started at the end of ..."
            ],
            "text/html": [
              "\n",
              "  <div id=\"df-cce0186c-de82-41e4-b38f-e39bf5f104a1\">\n",
              "    <div class=\"colab-df-container\">\n",
              "      <div>\n",
              "<style scoped>\n",
              "    .dataframe tbody tr th:only-of-type {\n",
              "        vertical-align: middle;\n",
              "    }\n",
              "\n",
              "    .dataframe tbody tr th {\n",
              "        vertical-align: top;\n",
              "    }\n",
              "\n",
              "    .dataframe thead th {\n",
              "        text-align: right;\n",
              "    }\n",
              "</style>\n",
              "<table border=\"1\" class=\"dataframe\">\n",
              "  <thead>\n",
              "    <tr style=\"text-align: right;\">\n",
              "      <th></th>\n",
              "      <th>label</th>\n",
              "      <th>sentence</th>\n",
              "    </tr>\n",
              "  </thead>\n",
              "  <tbody>\n",
              "    <tr>\n",
              "      <th>0</th>\n",
              "      <td>0</td>\n",
              "      <td>Says the Annies List political group supports ...</td>\n",
              "    </tr>\n",
              "    <tr>\n",
              "      <th>1</th>\n",
              "      <td>0</td>\n",
              "      <td>When did the decline of coal start? It started...</td>\n",
              "    </tr>\n",
              "    <tr>\n",
              "      <th>2</th>\n",
              "      <td>1</td>\n",
              "      <td>Hillary Clinton agrees with John McCain \"by vo...</td>\n",
              "    </tr>\n",
              "    <tr>\n",
              "      <th>3</th>\n",
              "      <td>0</td>\n",
              "      <td>Health care reform legislation is likely to ma...</td>\n",
              "    </tr>\n",
              "    <tr>\n",
              "      <th>4</th>\n",
              "      <td>0</td>\n",
              "      <td>The economic turnaround started at the end of ...</td>\n",
              "    </tr>\n",
              "  </tbody>\n",
              "</table>\n",
              "</div>\n",
              "      <button class=\"colab-df-convert\" onclick=\"convertToInteractive('df-cce0186c-de82-41e4-b38f-e39bf5f104a1')\"\n",
              "              title=\"Convert this dataframe to an interactive table.\"\n",
              "              style=\"display:none;\">\n",
              "        \n",
              "  <svg xmlns=\"http://www.w3.org/2000/svg\" height=\"24px\"viewBox=\"0 0 24 24\"\n",
              "       width=\"24px\">\n",
              "    <path d=\"M0 0h24v24H0V0z\" fill=\"none\"/>\n",
              "    <path d=\"M18.56 5.44l.94 2.06.94-2.06 2.06-.94-2.06-.94-.94-2.06-.94 2.06-2.06.94zm-11 1L8.5 8.5l.94-2.06 2.06-.94-2.06-.94L8.5 2.5l-.94 2.06-2.06.94zm10 10l.94 2.06.94-2.06 2.06-.94-2.06-.94-.94-2.06-.94 2.06-2.06.94z\"/><path d=\"M17.41 7.96l-1.37-1.37c-.4-.4-.92-.59-1.43-.59-.52 0-1.04.2-1.43.59L10.3 9.45l-7.72 7.72c-.78.78-.78 2.05 0 2.83L4 21.41c.39.39.9.59 1.41.59.51 0 1.02-.2 1.41-.59l7.78-7.78 2.81-2.81c.8-.78.8-2.07 0-2.86zM5.41 20L4 18.59l7.72-7.72 1.47 1.35L5.41 20z\"/>\n",
              "  </svg>\n",
              "      </button>\n",
              "      \n",
              "  <style>\n",
              "    .colab-df-container {\n",
              "      display:flex;\n",
              "      flex-wrap:wrap;\n",
              "      gap: 12px;\n",
              "    }\n",
              "\n",
              "    .colab-df-convert {\n",
              "      background-color: #E8F0FE;\n",
              "      border: none;\n",
              "      border-radius: 50%;\n",
              "      cursor: pointer;\n",
              "      display: none;\n",
              "      fill: #1967D2;\n",
              "      height: 32px;\n",
              "      padding: 0 0 0 0;\n",
              "      width: 32px;\n",
              "    }\n",
              "\n",
              "    .colab-df-convert:hover {\n",
              "      background-color: #E2EBFA;\n",
              "      box-shadow: 0px 1px 2px rgba(60, 64, 67, 0.3), 0px 1px 3px 1px rgba(60, 64, 67, 0.15);\n",
              "      fill: #174EA6;\n",
              "    }\n",
              "\n",
              "    [theme=dark] .colab-df-convert {\n",
              "      background-color: #3B4455;\n",
              "      fill: #D2E3FC;\n",
              "    }\n",
              "\n",
              "    [theme=dark] .colab-df-convert:hover {\n",
              "      background-color: #434B5C;\n",
              "      box-shadow: 0px 1px 3px 1px rgba(0, 0, 0, 0.15);\n",
              "      filter: drop-shadow(0px 1px 2px rgba(0, 0, 0, 0.3));\n",
              "      fill: #FFFFFF;\n",
              "    }\n",
              "  </style>\n",
              "\n",
              "      <script>\n",
              "        const buttonEl =\n",
              "          document.querySelector('#df-cce0186c-de82-41e4-b38f-e39bf5f104a1 button.colab-df-convert');\n",
              "        buttonEl.style.display =\n",
              "          google.colab.kernel.accessAllowed ? 'block' : 'none';\n",
              "\n",
              "        async function convertToInteractive(key) {\n",
              "          const element = document.querySelector('#df-cce0186c-de82-41e4-b38f-e39bf5f104a1');\n",
              "          const dataTable =\n",
              "            await google.colab.kernel.invokeFunction('convertToInteractive',\n",
              "                                                     [key], {});\n",
              "          if (!dataTable) return;\n",
              "\n",
              "          const docLinkHtml = 'Like what you see? Visit the ' +\n",
              "            '<a target=\"_blank\" href=https://colab.research.google.com/notebooks/data_table.ipynb>data table notebook</a>'\n",
              "            + ' to learn more about interactive tables.';\n",
              "          element.innerHTML = '';\n",
              "          dataTable['output_type'] = 'display_data';\n",
              "          await google.colab.output.renderOutput(dataTable, element);\n",
              "          const docLink = document.createElement('div');\n",
              "          docLink.innerHTML = docLinkHtml;\n",
              "          element.appendChild(docLink);\n",
              "        }\n",
              "      </script>\n",
              "    </div>\n",
              "  </div>\n",
              "  "
            ]
          },
          "metadata": {},
          "execution_count": 9
        }
      ]
    },
    {
      "cell_type": "code",
      "source": [
        "# maximun length of a sentence in the corpus\n",
        "max_len_train = (data_train['sentence'].apply(lambda x: len(x.split(' ')))).max()\n",
        "print('Max length of a sentence in the corpus: ' + str(max_len_train))"
      ],
      "metadata": {
        "colab": {
          "base_uri": "https://localhost:8080/"
        },
        "id": "hj_MhcfjzddE",
        "outputId": "2a364e93-ed92-434d-9ba4-9da8a570f067"
      },
      "id": "hj_MhcfjzddE",
      "execution_count": null,
      "outputs": [
        {
          "output_type": "stream",
          "name": "stdout",
          "text": [
            "Max length of a sentence in the corpus: 302\n"
          ]
        }
      ]
    },
    {
      "cell_type": "code",
      "source": [
        "# maximun length of a sentence in the corpus\n",
        "max_len_test = (data_test['sentence'].apply(lambda x: len(x.split(' ')))).max()\n",
        "print('Max length of a sentence in the corpus: ' + str(max_len_test))"
      ],
      "metadata": {
        "colab": {
          "base_uri": "https://localhost:8080/"
        },
        "id": "BCyzTRJf6Bi3",
        "outputId": "aa0f5c85-2a53-42fe-f49e-bcad1262613f"
      },
      "id": "BCyzTRJf6Bi3",
      "execution_count": null,
      "outputs": [
        {
          "output_type": "stream",
          "name": "stdout",
          "text": [
            "Max length of a sentence in the corpus: 283\n"
          ]
        }
      ]
    },
    {
      "cell_type": "code",
      "execution_count": null,
      "id": "professional-screen",
      "metadata": {
        "execution": {
          "iopub.execute_input": "2021-05-03T00:21:45.189837Z",
          "iopub.status.busy": "2021-05-03T00:21:45.163739Z",
          "iopub.status.idle": "2021-05-03T00:22:02.905620Z",
          "shell.execute_reply": "2021-05-03T00:22:02.905127Z"
        },
        "papermill": {
          "duration": 17.782515,
          "end_time": "2021-05-03T00:22:02.905757",
          "exception": false,
          "start_time": "2021-05-03T00:21:45.123242",
          "status": "completed"
        },
        "tags": [],
        "id": "professional-screen"
      },
      "outputs": [],
      "source": [
        "# tokenizing the text\n",
        "tokenizer = Tokenizer()\n",
        "tokenizer.fit_on_texts(data_train.sentence)\n",
        "X1 = tokenizer.texts_to_sequences(data_train.sentence.values)\n",
        "\n",
        "# Adding 1 because of reserved 0 index\n",
        "vocab_size = len(tokenizer.word_index) + 1\n",
        "\n",
        "# padding sequences with zeroes\n",
        "X1 = pad_sequences(X1, padding = 'post', maxlen = max_len_train)\n",
        "\n",
        "# one hot encoding the labels\n",
        "y1 = to_categorical(data_train.label)"
      ]
    },
    {
      "cell_type": "code",
      "source": [
        "# tokenizing the text\n",
        "tokenizer = Tokenizer()\n",
        "tokenizer.fit_on_texts(data_test.sentence)\n",
        "X2 = tokenizer.texts_to_sequences(data_test.sentence.values)\n",
        "\n",
        "# Adding 1 because of reserved 0 index\n",
        "vocab_size = len(tokenizer.word_index) + 1\n",
        "\n",
        "# padding sequences with zeroes\n",
        "X2 = pad_sequences(X2, padding = 'post', maxlen = max_len_train)\n",
        "\n",
        "# one hot encoding the labels\n",
        "y2 = to_categorical(data_test.label)"
      ],
      "metadata": {
        "id": "fPkCj-mF6CRZ"
      },
      "id": "fPkCj-mF6CRZ",
      "execution_count": null,
      "outputs": []
    },
    {
      "cell_type": "code",
      "execution_count": null,
      "id": "retired-restriction",
      "metadata": {
        "execution": {
          "iopub.execute_input": "2021-05-03T00:22:02.953960Z",
          "iopub.status.busy": "2021-05-03T00:22:02.952751Z",
          "iopub.status.idle": "2021-05-03T00:22:03.459452Z",
          "shell.execute_reply": "2021-05-03T00:22:03.460169Z"
        },
        "papermill": {
          "duration": 0.533459,
          "end_time": "2021-05-03T00:22:03.460366",
          "exception": false,
          "start_time": "2021-05-03T00:22:02.926907",
          "status": "completed"
        },
        "tags": [],
        "colab": {
          "base_uri": "https://localhost:8080/"
        },
        "id": "retired-restriction",
        "outputId": "4fa78c46-e0e6-44cf-dc69-6dcfa60ab7d4"
      },
      "outputs": [
        {
          "output_type": "stream",
          "name": "stdout",
          "text": [
            "Size of Training data: 10240\n",
            "Size of Testing data: 1267\n"
          ]
        }
      ],
      "source": [
        "X_train = X1\n",
        "y_train = y1\n",
        "X_test = X2\n",
        "y_test = y2\n",
        "print(\"Size of Training data: \" + str(len(X_train)))\n",
        "print(\"Size of Testing data: \" + str(len(X_test)))"
      ]
    },
    {
      "cell_type": "code",
      "execution_count": null,
      "id": "gentle-consultation",
      "metadata": {
        "_kg_hide-input": true,
        "execution": {
          "iopub.execute_input": "2021-05-03T00:22:03.548912Z",
          "iopub.status.busy": "2021-05-03T00:22:03.548142Z",
          "iopub.status.idle": "2021-05-03T00:22:03.551103Z",
          "shell.execute_reply": "2021-05-03T00:22:03.550658Z"
        },
        "papermill": {
          "duration": 0.027894,
          "end_time": "2021-05-03T00:22:03.551222",
          "exception": false,
          "start_time": "2021-05-03T00:22:03.523328",
          "status": "completed"
        },
        "tags": [],
        "id": "gentle-consultation"
      },
      "outputs": [],
      "source": [
        "#importing required libraries\n",
        "from gensim.utils import simple_preprocess\n",
        "from gensim.models import Word2Vec\n",
        "\n",
        "# for generating word2vec embeddings\n",
        "tokenized_text = [simple_preprocess(text, deacc=True) for text in data_train.sentence]\n",
        "\n",
        "# CBOW model (sg = 0)\n",
        "# Embedding Dimensions\n",
        "size = 300\n",
        "# Context Window\n",
        "window = 6\n",
        "# Min count of words\n",
        "min_count = 1\n",
        "# CBOW\n",
        "sg = 0\n",
        "\n",
        "# # for gensim 4.x\n",
        "# w2v_model = Word2Vec(tokenized_text, vector_size = size, window = window, min_count = min_count, sg = sg)\n",
        "\n",
        "# for gensim 3.x\n",
        "w2v_model = Word2Vec(tokenized_text, size = size, window = window, min_count = min_count, sg = sg)\n",
        "\n",
        "word2vec_model_file = 'word2vec_cbow_' + str(window) + '_' + str(size) + '.model'\n",
        "w2v_model.save(word2vec_model_file)"
      ]
    },
    {
      "cell_type": "code",
      "source": [
        "word2vec_model_file"
      ],
      "metadata": {
        "colab": {
          "base_uri": "https://localhost:8080/",
          "height": 35
        },
        "id": "O-f-TZIm_4ZB",
        "outputId": "5eec1332-f053-4563-f732-753fbc3901ff"
      },
      "id": "O-f-TZIm_4ZB",
      "execution_count": null,
      "outputs": [
        {
          "output_type": "execute_result",
          "data": {
            "text/plain": [
              "'word2vec_cbow_6_300.model'"
            ],
            "application/vnd.google.colaboratory.intrinsic+json": {
              "type": "string"
            }
          },
          "metadata": {},
          "execution_count": 16
        }
      ]
    },
    {
      "cell_type": "code",
      "execution_count": null,
      "id": "vital-tennessee",
      "metadata": {
        "execution": {
          "iopub.execute_input": "2021-05-03T00:22:03.596351Z",
          "iopub.status.busy": "2021-05-03T00:22:03.595854Z",
          "iopub.status.idle": "2021-05-03T00:22:14.081773Z",
          "shell.execute_reply": "2021-05-03T00:22:14.081301Z"
        },
        "papermill": {
          "duration": 10.509934,
          "end_time": "2021-05-03T00:22:14.081947",
          "exception": false,
          "start_time": "2021-05-03T00:22:03.572013",
          "status": "completed"
        },
        "tags": [],
        "id": "vital-tennessee"
      },
      "outputs": [],
      "source": [
        "# loading word2vec cbow embeddings\n",
        "\n",
        "model_cbow = KeyedVectors.load('/content/word2vec_cbow_6_300.model')"
      ]
    },
    {
      "cell_type": "code",
      "execution_count": null,
      "id": "cultural-spider",
      "metadata": {
        "execution": {
          "iopub.execute_input": "2021-05-03T00:22:14.143986Z",
          "iopub.status.busy": "2021-05-03T00:22:14.138867Z",
          "iopub.status.idle": "2021-05-03T00:22:14.548105Z",
          "shell.execute_reply": "2021-05-03T00:22:14.547586Z"
        },
        "papermill": {
          "duration": 0.444262,
          "end_time": "2021-05-03T00:22:14.548244",
          "exception": false,
          "start_time": "2021-05-03T00:22:14.103982",
          "status": "completed"
        },
        "tags": [],
        "id": "cultural-spider"
      },
      "outputs": [],
      "source": [
        "# embedding index\n",
        "\n",
        "embeddings_index = {}\n",
        "\n",
        "#for gensim 4.x\n",
        "#for w in (model_cbow.wv.key_to_index).keys():\n",
        "    #embeddings_index[w] = model_cbow.wv[w]\n",
        "    \n",
        "#for gensim 3.x\n",
        "for w in model_cbow.wv.vocab.keys():\n",
        "    embeddings_index[w] = model_cbow.wv[w]"
      ]
    },
    {
      "cell_type": "code",
      "execution_count": null,
      "id": "harmful-sterling",
      "metadata": {
        "execution": {
          "iopub.execute_input": "2021-05-03T00:22:14.596372Z",
          "iopub.status.busy": "2021-05-03T00:22:14.595758Z",
          "iopub.status.idle": "2021-05-03T00:22:14.599152Z",
          "shell.execute_reply": "2021-05-03T00:22:14.599816Z"
        },
        "papermill": {
          "duration": 0.029765,
          "end_time": "2021-05-03T00:22:14.600023",
          "exception": false,
          "start_time": "2021-05-03T00:22:14.570258",
          "status": "completed"
        },
        "tags": [],
        "colab": {
          "base_uri": "https://localhost:8080/"
        },
        "id": "harmful-sterling",
        "outputId": "bee312ea-f6d3-40e9-d5d9-8a81b2e15395"
      },
      "outputs": [
        {
          "output_type": "stream",
          "name": "stdout",
          "text": [
            "Number of word vectors: 11557\n",
            "Number of unique tokens: 4401\n"
          ]
        }
      ],
      "source": [
        "print('Number of word vectors: ' + str(len(embeddings_index)))\n",
        "print('Number of unique tokens: ' + str(vocab_size))"
      ]
    },
    {
      "cell_type": "code",
      "execution_count": null,
      "id": "aquatic-census",
      "metadata": {
        "execution": {
          "iopub.execute_input": "2021-05-03T00:22:14.649529Z",
          "iopub.status.busy": "2021-05-03T00:22:14.648737Z",
          "iopub.status.idle": "2021-05-03T00:22:15.677525Z",
          "shell.execute_reply": "2021-05-03T00:22:15.677059Z"
        },
        "papermill": {
          "duration": 1.055038,
          "end_time": "2021-05-03T00:22:15.677654",
          "exception": false,
          "start_time": "2021-05-03T00:22:14.622616",
          "status": "completed"
        },
        "tags": [],
        "id": "aquatic-census"
      },
      "outputs": [],
      "source": [
        "# 300 dimensions\n",
        "embedding_dim = 300\n",
        "\n",
        "# generating embedding matrix\n",
        "embedding_matrix = np.zeros((vocab_size, embedding_dim))\n",
        "\n",
        "for word, i in tokenizer.word_index.items():\n",
        "    embedding_vector = embeddings_index.get(word)\n",
        "    \n",
        "    if embedding_vector is not None:\n",
        "        embedding_matrix[i] = embedding_vector\n",
        "        \n",
        "    # for words not present, randomly initialize   \n",
        "    else:\n",
        "        embedding_matrix[i] = np.random.randn(embedding_dim)"
      ]
    },
    {
      "cell_type": "code",
      "execution_count": null,
      "id": "recovered-plane",
      "metadata": {
        "execution": {
          "iopub.execute_input": "2021-05-03T00:22:15.734960Z",
          "iopub.status.busy": "2021-05-03T00:22:15.733614Z",
          "iopub.status.idle": "2021-05-03T00:22:15.735959Z",
          "shell.execute_reply": "2021-05-03T00:22:15.736399Z"
        },
        "papermill": {
          "duration": 0.036643,
          "end_time": "2021-05-03T00:22:15.736531",
          "exception": false,
          "start_time": "2021-05-03T00:22:15.699888",
          "status": "completed"
        },
        "tags": [],
        "id": "recovered-plane"
      },
      "outputs": [],
      "source": [
        "# model layers\n",
        "def KimsCNN(embeddings, max_seq_length, num_words, embedding_dim, labels_index, trainable_weights = False):\n",
        "    \n",
        "    # input layer\n",
        "    seq_input = Input(shape = (max_seq_length,), dtype = 'int32')\n",
        "    \n",
        "    # embedding layer\n",
        "    embedding_layer = Embedding(num_words, embedding_dim, weights = [embeddings], input_length = max_seq_length,\n",
        "                                trainable = trainable_weights)(seq_input)\n",
        "    \n",
        "    # reshape\n",
        "    reshape = Reshape((max_seq_length, embedding_dim, 1))(embedding_layer)\n",
        "    \n",
        "    convs = []\n",
        "    filter_sizes = [2, 3, 4, 5, 6]\n",
        "    \n",
        "    for filter_size in filter_sizes:\n",
        "        \n",
        "        # convolution layer\n",
        "        l_conv = Conv2D(filters = 100, kernel_size = (filter_size, embedding_dim), activation = 'relu', \n",
        "                        kernel_regularizer = regularizers.l2(3))(reshape)\n",
        "        \n",
        "        # max polling layer\n",
        "        l_pool = MaxPool2D(pool_size = (max_seq_length - filter_size + 1, 1), strides = (1,1), padding = 'valid')(l_conv)\n",
        "        convs.append(l_pool)\n",
        "        \n",
        "    # concatenate the layers    \n",
        "    l_merge = concatenate(convs, axis = 1)\n",
        "    \n",
        "    # flattened\n",
        "    flatten = Flatten()(l_merge)\n",
        "    \n",
        "    # dropout layer\n",
        "    x = Dropout(0.5)(flatten)  \n",
        "    \n",
        "    # output layer\n",
        "    preds = Dense(labels_index, activation = 'sigmoid')(x)\n",
        "    \n",
        "    model = Model(seq_input, preds)\n",
        "    model.compile(loss = 'binary_crossentropy', optimizer = 'Adam', metrics = ['accuracy'])\n",
        "    model.summary()\n",
        "    \n",
        "    return model"
      ]
    },
    {
      "cell_type": "code",
      "execution_count": null,
      "id": "earlier-county",
      "metadata": {
        "execution": {
          "iopub.execute_input": "2021-05-03T00:22:15.784152Z",
          "iopub.status.busy": "2021-05-03T00:22:15.783596Z",
          "iopub.status.idle": "2021-05-03T00:22:19.340672Z",
          "shell.execute_reply": "2021-05-03T00:22:19.339933Z"
        },
        "papermill": {
          "duration": 3.582631,
          "end_time": "2021-05-03T00:22:19.340860",
          "exception": false,
          "start_time": "2021-05-03T00:22:15.758229",
          "status": "completed"
        },
        "tags": [],
        "colab": {
          "base_uri": "https://localhost:8080/"
        },
        "id": "earlier-county",
        "outputId": "7b772836-c1f2-4eff-b849-d74ebce7b5ba"
      },
      "outputs": [
        {
          "output_type": "stream",
          "name": "stdout",
          "text": [
            "Model: \"model\"\n",
            "__________________________________________________________________________________________________\n",
            " Layer (type)                   Output Shape         Param #     Connected to                     \n",
            "==================================================================================================\n",
            " input_1 (InputLayer)           [(None, 302)]        0           []                               \n",
            "                                                                                                  \n",
            " embedding (Embedding)          (None, 302, 300)     1320300     ['input_1[0][0]']                \n",
            "                                                                                                  \n",
            " reshape (Reshape)              (None, 302, 300, 1)  0           ['embedding[0][0]']              \n",
            "                                                                                                  \n",
            " conv2d (Conv2D)                (None, 301, 1, 100)  60100       ['reshape[0][0]']                \n",
            "                                                                                                  \n",
            " conv2d_1 (Conv2D)              (None, 300, 1, 100)  90100       ['reshape[0][0]']                \n",
            "                                                                                                  \n",
            " conv2d_2 (Conv2D)              (None, 299, 1, 100)  120100      ['reshape[0][0]']                \n",
            "                                                                                                  \n",
            " conv2d_3 (Conv2D)              (None, 298, 1, 100)  150100      ['reshape[0][0]']                \n",
            "                                                                                                  \n",
            " conv2d_4 (Conv2D)              (None, 297, 1, 100)  180100      ['reshape[0][0]']                \n",
            "                                                                                                  \n",
            " max_pooling2d (MaxPooling2D)   (None, 1, 1, 100)    0           ['conv2d[0][0]']                 \n",
            "                                                                                                  \n",
            " max_pooling2d_1 (MaxPooling2D)  (None, 1, 1, 100)   0           ['conv2d_1[0][0]']               \n",
            "                                                                                                  \n",
            " max_pooling2d_2 (MaxPooling2D)  (None, 1, 1, 100)   0           ['conv2d_2[0][0]']               \n",
            "                                                                                                  \n",
            " max_pooling2d_3 (MaxPooling2D)  (None, 1, 1, 100)   0           ['conv2d_3[0][0]']               \n",
            "                                                                                                  \n",
            " max_pooling2d_4 (MaxPooling2D)  (None, 1, 1, 100)   0           ['conv2d_4[0][0]']               \n",
            "                                                                                                  \n",
            " concatenate (Concatenate)      (None, 5, 1, 100)    0           ['max_pooling2d[0][0]',          \n",
            "                                                                  'max_pooling2d_1[0][0]',        \n",
            "                                                                  'max_pooling2d_2[0][0]',        \n",
            "                                                                  'max_pooling2d_3[0][0]',        \n",
            "                                                                  'max_pooling2d_4[0][0]']        \n",
            "                                                                                                  \n",
            " flatten (Flatten)              (None, 500)          0           ['concatenate[0][0]']            \n",
            "                                                                                                  \n",
            " dropout (Dropout)              (None, 500)          0           ['flatten[0][0]']                \n",
            "                                                                                                  \n",
            " dense (Dense)                  (None, 2)            1002        ['dropout[0][0]']                \n",
            "                                                                                                  \n",
            "==================================================================================================\n",
            "Total params: 1,921,802\n",
            "Trainable params: 1,921,802\n",
            "Non-trainable params: 0\n",
            "__________________________________________________________________________________________________\n"
          ]
        }
      ],
      "source": [
        "# generating the model\n",
        "model = KimsCNN(embedding_matrix, max_len_train, vocab_size, embedding_dim, 2, True)"
      ]
    },
    {
      "cell_type": "code",
      "execution_count": null,
      "id": "juvenile-rubber",
      "metadata": {
        "execution": {
          "iopub.execute_input": "2021-05-03T00:22:19.391884Z",
          "iopub.status.busy": "2021-05-03T00:22:19.391310Z",
          "iopub.status.idle": "2021-05-03T08:37:03.439007Z",
          "shell.execute_reply": "2021-05-03T08:37:03.439497Z"
        },
        "papermill": {
          "duration": 29684.075824,
          "end_time": "2021-05-03T08:37:03.439651",
          "exception": false,
          "start_time": "2021-05-03T00:22:19.363827",
          "status": "completed"
        },
        "tags": [],
        "colab": {
          "base_uri": "https://localhost:8080/"
        },
        "id": "juvenile-rubber",
        "outputId": "93c4d280-9af2-4c5e-c943-66443e8c58bc"
      },
      "outputs": [
        {
          "output_type": "stream",
          "name": "stdout",
          "text": [
            "Epoch 1/36\n",
            "128/128 [==============================] - 135s 73ms/step - loss: 1.6058 - accuracy: 0.6412 - val_loss: 0.7020 - val_accuracy: 0.6553\n",
            "Epoch 2/36\n",
            "128/128 [==============================] - 9s 71ms/step - loss: 0.7129 - accuracy: 0.6421 - val_loss: 0.7118 - val_accuracy: 0.6553\n",
            "Epoch 3/36\n",
            "128/128 [==============================] - 9s 71ms/step - loss: 0.7064 - accuracy: 0.6421 - val_loss: 0.6928 - val_accuracy: 0.6553\n",
            "Epoch 4/36\n",
            "128/128 [==============================] - 9s 71ms/step - loss: 0.7009 - accuracy: 0.6421 - val_loss: 0.6898 - val_accuracy: 0.6553\n",
            "Epoch 5/36\n",
            "128/128 [==============================] - 9s 68ms/step - loss: 0.6955 - accuracy: 0.6421 - val_loss: 0.6916 - val_accuracy: 0.6553\n",
            "Epoch 6/36\n",
            "128/128 [==============================] - 9s 69ms/step - loss: 0.6996 - accuracy: 0.6421 - val_loss: 0.6939 - val_accuracy: 0.6553\n",
            "Epoch 7/36\n",
            "128/128 [==============================] - 9s 71ms/step - loss: 0.6965 - accuracy: 0.6421 - val_loss: 0.6934 - val_accuracy: 0.6553\n",
            "Epoch 8/36\n",
            "128/128 [==============================] - 9s 68ms/step - loss: 0.6966 - accuracy: 0.6421 - val_loss: 0.6844 - val_accuracy: 0.6553\n",
            "Epoch 9/36\n",
            "128/128 [==============================] - 9s 71ms/step - loss: 0.6962 - accuracy: 0.6421 - val_loss: 0.6831 - val_accuracy: 0.6553\n",
            "Epoch 10/36\n",
            "128/128 [==============================] - 9s 68ms/step - loss: 0.6999 - accuracy: 0.6421 - val_loss: 0.6938 - val_accuracy: 0.6553\n",
            "Epoch 11/36\n",
            "128/128 [==============================] - 9s 71ms/step - loss: 0.7045 - accuracy: 0.6421 - val_loss: 0.7016 - val_accuracy: 0.6553\n",
            "Epoch 12/36\n",
            "128/128 [==============================] - 9s 68ms/step - loss: 0.7050 - accuracy: 0.6421 - val_loss: 0.7011 - val_accuracy: 0.6553\n",
            "Epoch 13/36\n",
            "128/128 [==============================] - 9s 68ms/step - loss: 0.7091 - accuracy: 0.6421 - val_loss: 0.6922 - val_accuracy: 0.6553\n",
            "Epoch 14/36\n",
            "128/128 [==============================] - 9s 68ms/step - loss: 0.7142 - accuracy: 0.6421 - val_loss: 0.7069 - val_accuracy: 0.6553\n",
            "Epoch 15/36\n",
            "128/128 [==============================] - 9s 71ms/step - loss: 0.7268 - accuracy: 0.6421 - val_loss: 0.7140 - val_accuracy: 0.6553\n",
            "Epoch 16/36\n",
            "128/128 [==============================] - 9s 68ms/step - loss: 0.7348 - accuracy: 0.6421 - val_loss: 0.7346 - val_accuracy: 0.6553\n",
            "Epoch 17/36\n",
            "128/128 [==============================] - 9s 71ms/step - loss: 0.7406 - accuracy: 0.6421 - val_loss: 0.7342 - val_accuracy: 0.6553\n",
            "Epoch 18/36\n",
            "128/128 [==============================] - 9s 68ms/step - loss: 0.7504 - accuracy: 0.6421 - val_loss: 0.7641 - val_accuracy: 0.6553\n",
            "Epoch 19/36\n",
            "128/128 [==============================] - 9s 68ms/step - loss: 0.7525 - accuracy: 0.6421 - val_loss: 0.7431 - val_accuracy: 0.6553\n",
            "Epoch 20/36\n",
            "128/128 [==============================] - 9s 68ms/step - loss: 0.7597 - accuracy: 0.6421 - val_loss: 0.7965 - val_accuracy: 0.6553\n",
            "Epoch 21/36\n",
            "128/128 [==============================] - 9s 71ms/step - loss: 0.7651 - accuracy: 0.6425 - val_loss: 0.7766 - val_accuracy: 0.6553\n",
            "Epoch 22/36\n",
            "128/128 [==============================] - 9s 71ms/step - loss: 0.7705 - accuracy: 0.6450 - val_loss: 0.7881 - val_accuracy: 0.6514\n",
            "Epoch 23/36\n",
            "128/128 [==============================] - 9s 71ms/step - loss: 0.7784 - accuracy: 0.6488 - val_loss: 0.7937 - val_accuracy: 0.6543\n",
            "Epoch 24/36\n",
            "128/128 [==============================] - 9s 68ms/step - loss: 0.7775 - accuracy: 0.6539 - val_loss: 0.8155 - val_accuracy: 0.6558\n",
            "Epoch 25/36\n",
            "128/128 [==============================] - 9s 68ms/step - loss: 0.7808 - accuracy: 0.6620 - val_loss: 0.7976 - val_accuracy: 0.6543\n",
            "Epoch 26/36\n",
            "128/128 [==============================] - 9s 71ms/step - loss: 0.7925 - accuracy: 0.6692 - val_loss: 0.8240 - val_accuracy: 0.6567\n",
            "Epoch 27/36\n",
            "128/128 [==============================] - 9s 68ms/step - loss: 0.8000 - accuracy: 0.6731 - val_loss: 0.8443 - val_accuracy: 0.6587\n",
            "Epoch 28/36\n",
            "128/128 [==============================] - 9s 71ms/step - loss: 0.8121 - accuracy: 0.6837 - val_loss: 0.8391 - val_accuracy: 0.6377\n",
            "Epoch 29/36\n",
            "128/128 [==============================] - 9s 71ms/step - loss: 0.8154 - accuracy: 0.6932 - val_loss: 0.8549 - val_accuracy: 0.6494\n",
            "Epoch 30/36\n",
            "128/128 [==============================] - 9s 71ms/step - loss: 0.8197 - accuracy: 0.6997 - val_loss: 0.8627 - val_accuracy: 0.6299\n",
            "Epoch 31/36\n",
            "128/128 [==============================] - 9s 68ms/step - loss: 0.8226 - accuracy: 0.7097 - val_loss: 0.9184 - val_accuracy: 0.6519\n",
            "Epoch 32/36\n",
            "128/128 [==============================] - 9s 68ms/step - loss: 0.8335 - accuracy: 0.7101 - val_loss: 0.9069 - val_accuracy: 0.6514\n",
            "Epoch 33/36\n",
            "128/128 [==============================] - 9s 68ms/step - loss: 0.8275 - accuracy: 0.7124 - val_loss: 0.8649 - val_accuracy: 0.6455\n",
            "Epoch 34/36\n",
            "128/128 [==============================] - 9s 68ms/step - loss: 0.8214 - accuracy: 0.7173 - val_loss: 0.9498 - val_accuracy: 0.6411\n",
            "Epoch 35/36\n",
            "128/128 [==============================] - 9s 71ms/step - loss: 0.8215 - accuracy: 0.7256 - val_loss: 0.9309 - val_accuracy: 0.6221\n",
            "Epoch 36/36\n",
            "128/128 [==============================] - 9s 71ms/step - loss: 0.8269 - accuracy: 0.7241 - val_loss: 0.9512 - val_accuracy: 0.6396\n"
          ]
        }
      ],
      "source": [
        "# training the model\n",
        "batch_size = 64\n",
        "history = model.fit(X_train, y_train, epochs = 36, batch_size = batch_size, verbose = 1, validation_split = 0.2)"
      ]
    },
    {
      "cell_type": "code",
      "execution_count": null,
      "id": "photographic-treasury",
      "metadata": {
        "execution": {
          "iopub.execute_input": "2021-05-03T08:37:22.032999Z",
          "iopub.status.busy": "2021-05-03T08:37:22.032410Z",
          "iopub.status.idle": "2021-05-03T08:37:22.324956Z",
          "shell.execute_reply": "2021-05-03T08:37:22.325467Z"
        },
        "papermill": {
          "duration": 9.385876,
          "end_time": "2021-05-03T08:37:22.325625",
          "exception": false,
          "start_time": "2021-05-03T08:37:12.939749",
          "status": "completed"
        },
        "tags": [],
        "colab": {
          "base_uri": "https://localhost:8080/",
          "height": 573
        },
        "id": "photographic-treasury",
        "outputId": "9538fb0f-6264-4b7d-d910-ca03d9db6990"
      },
      "outputs": [
        {
          "output_type": "display_data",
          "data": {
            "text/plain": [
              "<Figure size 432x288 with 1 Axes>"
            ],
            "image/png": "[encoded data removed]"
          },
          "metadata": {
            "needs_background": "light"
          }
        },
        {
          "output_type": "display_data",
          "data": {
            "text/plain": [
              "<Figure size 432x288 with 1 Axes>"
            ],
            "image/png": "[encoded data removed]"
          },
          "metadata": {
            "needs_background": "light"
          }
        }
      ],
      "source": [
        "# plot history\n",
        "plt.plot(history.history['accuracy'])\n",
        "plt.plot(history.history['val_accuracy'])\n",
        "plt.title('model accuracy')\n",
        "plt.ylabel('accuracy')\n",
        "plt.xlabel('epoch')\n",
        "plt.legend(['train', 'validation'], loc = 'upper left')\n",
        "plt.show()\n",
        "\n",
        "plt.plot(history.history['loss'])\n",
        "plt.plot(history.history['val_loss'])\n",
        "plt.title('model loss')\n",
        "plt.ylabel('loss')\n",
        "plt.xlabel('epoch')\n",
        "plt.legend(['train', 'validation'], loc = 'upper left')\n",
        "plt.show()"
      ]
    },
    {
      "cell_type": "code",
      "execution_count": null,
      "id": "located-migration",
      "metadata": {
        "execution": {
          "iopub.execute_input": "2021-05-03T08:37:40.551888Z",
          "iopub.status.busy": "2021-05-03T08:37:40.550932Z",
          "iopub.status.idle": "2021-05-03T08:38:25.400925Z",
          "shell.execute_reply": "2021-05-03T08:38:25.400383Z"
        },
        "papermill": {
          "duration": 54.041935,
          "end_time": "2021-05-03T08:38:25.401067",
          "exception": false,
          "start_time": "2021-05-03T08:37:31.359132",
          "status": "completed"
        },
        "tags": [],
        "colab": {
          "base_uri": "https://localhost:8080/"
        },
        "id": "located-migration",
        "outputId": "c4bb0a4d-60a3-43da-d7eb-50025326b622"
      },
      "outputs": [
        {
          "output_type": "stream",
          "name": "stdout",
          "text": [
            "40/40 [==============================] - 1s 20ms/step\n"
          ]
        }
      ],
      "source": [
        "# testing the model\n",
        "y_hat = model.predict(X_test)"
      ]
    },
    {
      "cell_type": "code",
      "execution_count": null,
      "id": "fabulous-valuation",
      "metadata": {
        "execution": {
          "iopub.execute_input": "2021-05-03T08:38:44.119072Z",
          "iopub.status.busy": "2021-05-03T08:38:44.117937Z",
          "iopub.status.idle": "2021-05-03T08:38:44.137166Z",
          "shell.execute_reply": "2021-05-03T08:38:44.137565Z"
        },
        "papermill": {
          "duration": 9.780861,
          "end_time": "2021-05-03T08:38:44.137700",
          "exception": false,
          "start_time": "2021-05-03T08:38:34.356839",
          "status": "completed"
        },
        "tags": [],
        "colab": {
          "base_uri": "https://localhost:8080/"
        },
        "id": "fabulous-valuation",
        "outputId": "6499923e-18f8-43cd-dfe5-242b854296eb"
      },
      "outputs": [
        {
          "output_type": "stream",
          "name": "stdout",
          "text": [
            "Testing Accuracy\n"
          ]
        },
        {
          "output_type": "execute_result",
          "data": {
            "text/plain": [
              "0.6140489344909235"
            ]
          },
          "metadata": {},
          "execution_count": 26
        }
      ],
      "source": [
        "# testing accuracy\n",
        "print(\"Testing Accuracy\")\n",
        "accuracy_score(list(map(lambda x: np.argmax(x), y_test)), list(map(lambda x: np.argmax(x), y_hat)))"
      ]
    },
    {
      "cell_type": "code",
      "execution_count": null,
      "id": "silver-taxation",
      "metadata": {
        "execution": {
          "iopub.execute_input": "2021-05-03T08:39:01.935428Z",
          "iopub.status.busy": "2021-05-03T08:39:01.934443Z",
          "iopub.status.idle": "2021-05-03T08:39:01.956982Z",
          "shell.execute_reply": "2021-05-03T08:39:01.956558Z"
        },
        "papermill": {
          "duration": 8.978134,
          "end_time": "2021-05-03T08:39:01.957108",
          "exception": false,
          "start_time": "2021-05-03T08:38:52.978974",
          "status": "completed"
        },
        "tags": [],
        "colab": {
          "base_uri": "https://localhost:8080/"
        },
        "id": "silver-taxation",
        "outputId": "929d92ee-3ae9-4370-a823-27f6bb85ead8"
      },
      "outputs": [
        {
          "output_type": "execute_result",
          "data": {
            "text/plain": [
              "array([[713, 105],\n",
              "       [384,  65]])"
            ]
          },
          "metadata": {},
          "execution_count": 27
        }
      ],
      "source": [
        "# Confusion matrix (testing)\n",
        "confusion_matrix(list(map(lambda x: np.argmax(x), y_test)), list(map(lambda x: np.argmax(x), y_hat)))\n",
        "\n",
        "#FP: prediction is real(1) but actual is fake\n",
        "#TN: prediction is fake and actual is fake"
      ]
    }
  ],
  "metadata": {
    "kernelspec": {
      "display_name": "Python 3",
      "language": "python",
      "name": "python3"
    },
    "language_info": {
      "codemirror_mode": {
        "name": "ipython",
        "version": 3
      },
      "file_extension": ".py",
      "mimetype": "text/x-python",
      "name": "python",
      "nbconvert_exporter": "python",
      "pygments_lexer": "ipython3",
      "version": "3.7.10"
    },
    "papermill": {
      "default_parameters": {},
      "duration": 29897.71098,
      "end_time": "2021-05-03T08:39:33.286730",
      "environment_variables": {},
      "exception": null,
      "input_path": "__notebook__.ipynb",
      "output_path": "__notebook__.ipynb",
      "parameters": {},
      "start_time": "2021-05-03T00:21:15.575750",
      "version": "2.3.3"
    },
    "colab": {
      "provenance": []
    },
    "gpuClass": "standard"
  },
  "nbformat": 4,
  "nbformat_minor": 5
}